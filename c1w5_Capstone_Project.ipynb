{
  "nbformat": 4,
  "nbformat_minor": 0,
  "metadata": {
    "kernelspec": {
      "display_name": "feedforward",
      "language": "python",
      "name": "feedforward"
    },
    "language_info": {
      "codemirror_mode": {
        "name": "ipython",
        "version": 3
      },
      "file_extension": ".py",
      "mimetype": "text/x-python",
      "name": "python",
      "nbconvert_exporter": "python",
      "pygments_lexer": "ipython3",
      "version": "3.6.9"
    },
    "colab": {
      "name": "Capstone Project.ipynb",
      "provenance": [],
      "collapsed_sections": [],
      "include_colab_link": true
    },
    "accelerator": "GPU"
  },
  "cells": [
    {
      "cell_type": "markdown",
      "metadata": {
        "id": "view-in-github",
        "colab_type": "text"
      },
      "source": [
        "<a href=\"https://colab.research.google.com/github/ravitata/Analytics-Edge/blob/master/c1w5_Capstone_Project.ipynb\" target=\"_parent\"><img src=\"https://colab.research.google.com/assets/colab-badge.svg\" alt=\"Open In Colab\"/></a>"
      ]
    },
    {
      "cell_type": "markdown",
      "metadata": {
        "id": "rffwkDWTz_Fo"
      },
      "source": [
        "# Capstone Project\n",
        "## Image classifier for the SVHN dataset\n",
        "### Instructions\n",
        "\n",
        "In this notebook, you will create a neural network that classifies real-world images digits. You will use concepts from throughout this course in building, training, testing, validating and saving your Tensorflow classifier model.\n",
        "\n",
        "This project is peer-assessed. Within this notebook you will find instructions in each section for how to complete the project. Pay close attention to the instructions as the peer review will be carried out according to a grading rubric that checks key parts of the project instructions. Feel free to add extra cells into the notebook as required.\n",
        "\n",
        "### How to submit\n",
        "\n",
        "When you have completed the Capstone project notebook, you will submit a pdf of the notebook for peer review. First ensure that the notebook has been fully executed from beginning to end, and all of the cell outputs are visible. This is important, as the grading rubric depends on the reviewer being able to view the outputs of your notebook. Save the notebook as a pdf (you could download the notebook with File -> Download .ipynb, open the notebook locally, and then File -> Download as -> PDF via LaTeX), and then submit this pdf for review.\n",
        "\n",
        "### Let's get started!\n",
        "\n",
        "We'll start by running some imports, and loading the dataset. For this project you are free to make further imports throughout the notebook as you wish. "
      ]
    },
    {
      "cell_type": "code",
      "metadata": {
        "id": "O3vI8jSIz_Fs"
      },
      "source": [
        "import tensorflow as tf\n",
        "from scipy.io import loadmat\n",
        "\n",
        "#\n",
        "import matplotlib.pyplot as plt\n",
        "import pandas as pd\n",
        "import numpy as np\n",
        "import random\n",
        "\n",
        "from tensorflow.keras.models import Sequential, load_model\n",
        "from tensorflow.keras.layers import Flatten, Dense, Conv2D, MaxPool2D, Dropout, BatchNormalization\n",
        "from tensorflow.keras.callbacks import ModelCheckpoint, EarlyStopping\n",
        "%matplotlib inline"
      ],
      "execution_count": 1,
      "outputs": []
    },
    {
      "cell_type": "markdown",
      "metadata": {
        "id": "8OrHY7TRz_Fx"
      },
      "source": [
        "For the capstone project, you will use the [SVHN dataset](http://ufldl.stanford.edu/housenumbers/). This is an image dataset of over 600,000 digit images in all, and is a harder dataset than MNIST as the numbers appear in the context of natural scene images. SVHN is obtained from house numbers in Google Street View images.\n",
        "\n",
        "* Y. Netzer, T. Wang, A. Coates, A. Bissacco, B. Wu and A. Y. Ng. \"Reading Digits in Natural Images with Unsupervised Feature Learning\". NIPS Workshop on Deep Learning and Unsupervised Feature Learning, 2011.\n",
        "\n",
        "The train and test datasets required for this project can be downloaded from [here](http://ufldl.stanford.edu/housenumbers/train.tar.gz) and [here](http://ufldl.stanford.edu/housenumbers/test.tar.gz). Once unzipped, you will have two files: `train_32x32.mat` and `test_32x32.mat`. You should store these files in Drive for use in this Colab notebook.\n",
        "\n",
        "Your goal is to develop an end-to-end workflow for building, training, validating, evaluating and saving a neural network that classifies a real-world image into one of ten classes."
      ]
    },
    {
      "cell_type": "code",
      "metadata": {
        "id": "r8BHW8P_2wxw",
        "outputId": "95ea0a23-5527-46da-a5c8-5c504cdb270a",
        "colab": {
          "base_uri": "https://localhost:8080/",
          "height": 34
        }
      },
      "source": [
        "# Run this cell to connect to your Drive folder\n",
        "\n",
        "from google.colab import drive\n",
        "drive.mount('/content/gdrive')"
      ],
      "execution_count": 2,
      "outputs": [
        {
          "output_type": "stream",
          "text": [
            "Mounted at /content/gdrive\n"
          ],
          "name": "stdout"
        }
      ]
    },
    {
      "cell_type": "code",
      "metadata": {
        "id": "yBXr6G33Zqc-"
      },
      "source": [
        "#!gzip -d '/content/gdrive/My Drive/mydata/svhn_dataset/train.tar.gz'\n",
        "#!gzip -d '/content/gdrive/My Drive/mydata/svhn_dataset/test.tar.gz'"
      ],
      "execution_count": 3,
      "outputs": []
    },
    {
      "cell_type": "code",
      "metadata": {
        "id": "YWdiz3n_z_Fy"
      },
      "source": [
        "# Load the dataset from your Drive folder\n",
        "\n",
        "train = loadmat('/content/gdrive/My Drive/mydata/svhn_dataset/train_32x32.mat')\n",
        "test = loadmat('/content/gdrive/My Drive/mydata/svhn_dataset/test_32x32.mat')"
      ],
      "execution_count": 4,
      "outputs": []
    },
    {
      "cell_type": "code",
      "metadata": {
        "id": "EDDU8E1VcU7S",
        "outputId": "728fb9c8-bfe0-4b73-a404-a70fc178a851",
        "colab": {
          "base_uri": "https://localhost:8080/",
          "height": 52
        }
      },
      "source": [
        "print(train.keys())\n",
        "print(test.keys())"
      ],
      "execution_count": 5,
      "outputs": [
        {
          "output_type": "stream",
          "text": [
            "dict_keys(['__header__', '__version__', '__globals__', 'X', 'y'])\n",
            "dict_keys(['__header__', '__version__', '__globals__', 'X', 'y'])\n"
          ],
          "name": "stdout"
        }
      ]
    },
    {
      "cell_type": "markdown",
      "metadata": {
        "id": "Sot1IcuZz_F2"
      },
      "source": [
        "Both `train` and `test` are dictionaries with keys `X` and `y` for the input images and labels respectively."
      ]
    },
    {
      "cell_type": "markdown",
      "metadata": {
        "id": "_Q1n_Ai2z_F3"
      },
      "source": [
        "## 1. Inspect and preprocess the dataset\n",
        "* Extract the training and testing images and labels separately from the train and test dictionaries loaded for you.\n",
        "* Select a random sample of images and corresponding labels from the dataset (at least 10), and display them in a figure.\n",
        "* Convert the training and test images to grayscale by taking the average across all colour channels for each pixel. _Hint: retain the channel dimension, which will now have size 1._\n",
        "* Select a random sample of the grayscale images and corresponding labels from the dataset (at least 10), and display them in a figure."
      ]
    },
    {
      "cell_type": "code",
      "metadata": {
        "id": "-WIH5hyXz_F4",
        "outputId": "7e7f3c86-5dbf-47ab-9c0c-9740c06646a5",
        "colab": {
          "base_uri": "https://localhost:8080/",
          "height": 121
        }
      },
      "source": [
        "train_X = train['X']\n",
        "train_y = train['y']\n",
        "\n",
        "test_X = test['X']\n",
        "test_y = test['y']\n",
        "\n",
        "print(train_X.shape)\n",
        "print(test_X.shape)\n",
        "print(train_y.shape)\n",
        "print(test_y.shape)\n",
        "\n",
        "train_X = np.moveaxis(train_X, -1, 0)\n",
        "test_X = np.moveaxis(test_X, -1, 0)\n",
        "\n",
        "print(train_X.shape)\n",
        "print(test_X.shape)\n",
        "\n"
      ],
      "execution_count": 6,
      "outputs": [
        {
          "output_type": "stream",
          "text": [
            "(32, 32, 3, 73257)\n",
            "(32, 32, 3, 26032)\n",
            "(73257, 1)\n",
            "(26032, 1)\n",
            "(73257, 32, 32, 3)\n",
            "(26032, 32, 32, 3)\n"
          ],
          "name": "stdout"
        }
      ]
    },
    {
      "cell_type": "code",
      "metadata": {
        "id": "zmGJK3xgz_F8",
        "outputId": "db7d9979-682c-4ec6-890c-6be7ef9c7c2d",
        "colab": {
          "base_uri": "https://localhost:8080/",
          "height": 346
        }
      },
      "source": [
        "random.seed(1)\n",
        "\n",
        "rows=2\n",
        "columns=5\n",
        "\n",
        "fig=plt.figure(figsize=(10, 5))\n",
        "\n",
        "for i in range(10):\n",
        "  r = random.randint(1, 1000)\n",
        "  fig.add_subplot(rows, columns, i+1)\n",
        "  plt.imshow(train_X[r, :,:,:])\n",
        "  plt.axis(False)\n",
        "  plt.title(train_y[r])\n",
        "plt.show()"
      ],
      "execution_count": 7,
      "outputs": [
        {
          "output_type": "stream",
          "text": [
            "/usr/local/lib/python3.6/dist-packages/matplotlib/text.py:1165: FutureWarning: elementwise comparison failed; returning scalar instead, but in the future will perform elementwise comparison\n",
            "  if s != self._text:\n"
          ],
          "name": "stderr"
        },
        {
          "output_type": "display_data",
          "data": {
            "image/png": "[encoded data removed]",
            "text/plain": [
              "<Figure size 720x360 with 10 Axes>"
            ]
          },
          "metadata": {
            "tags": [],
            "needs_background": "light"
          }
        }
      ]
    },
    {
      "cell_type": "code",
      "metadata": {
        "id": "6SR4gYffz_F_",
        "outputId": "a399d821-08db-42a6-a5df-6adf1eee8744",
        "colab": {
          "base_uri": "https://localhost:8080/",
          "height": 52
        }
      },
      "source": [
        "train_X = np.mean(train_X, axis=3, keepdims=True)\n",
        "test_X = np.mean(test_X, axis=3, keepdims=True)\n",
        "print('Train X shape: ', train_X.shape)\n",
        "print('Test X shape: ', test_X.shape)"
      ],
      "execution_count": 8,
      "outputs": [
        {
          "output_type": "stream",
          "text": [
            "Train X shape:  (73257, 32, 32, 1)\n",
            "Test X shape:  (26032, 32, 32, 1)\n"
          ],
          "name": "stdout"
        }
      ]
    },
    {
      "cell_type": "code",
      "metadata": {
        "id": "UXYwWhHpz_GD",
        "outputId": "47dfe427-2539-4487-d3e8-1eda05533062",
        "colab": {
          "base_uri": "https://localhost:8080/",
          "height": 346
        }
      },
      "source": [
        "random.seed(1)\n",
        "\n",
        "rows=2\n",
        "columns=5\n",
        "\n",
        "fig=plt.figure(figsize=(10, 5))\n",
        "\n",
        "for i in range(10):\n",
        "  r = random.randint(1, 1000)\n",
        "  fig.add_subplot(rows, columns, i+1)\n",
        "  plt.imshow(train_X[r, :,:,:].squeeze(), cmap=plt.get_cmap('gray'))  #jet is another arg for get_cmap()\n",
        "  plt.axis(False)\n",
        "  plt.title(train_y[r])\n",
        "plt.show()"
      ],
      "execution_count": 9,
      "outputs": [
        {
          "output_type": "stream",
          "text": [
            "/usr/local/lib/python3.6/dist-packages/matplotlib/text.py:1165: FutureWarning: elementwise comparison failed; returning scalar instead, but in the future will perform elementwise comparison\n",
            "  if s != self._text:\n"
          ],
          "name": "stderr"
        },
        {
          "output_type": "display_data",
          "data": {
            "image/png": "[encoded data removed]",
            "text/plain": [
              "<Figure size 720x360 with 10 Axes>"
            ]
          },
          "metadata": {
            "tags": [],
            "needs_background": "light"
          }
        }
      ]
    },
    {
      "cell_type": "code",
      "metadata": {
        "id": "auFZ63dtz_GH",
        "outputId": "139e5a0b-2dc5-4f6b-dffa-12cf92a60eba",
        "colab": {
          "base_uri": "https://localhost:8080/",
          "height": 52
        }
      },
      "source": [
        "train_X1 = train_X/255.0\n",
        "test_X1 = test_X/255.0\n",
        "\n",
        "#10 classes, 1 for each digit. Digit '1' has label 1, '9' has label 9 and '0' has label 10. \n",
        "#So, replacing 10 to 0\n",
        "train_y1 = np.where(train_y<10, train_y, 0)\n",
        "test_y1 = np.where(test_y<10, test_y, 0)\n",
        "\n",
        "print(train_X1.shape)\n",
        "print(test_X1.shape)"
      ],
      "execution_count": 10,
      "outputs": [
        {
          "output_type": "stream",
          "text": [
            "(73257, 32, 32, 1)\n",
            "(26032, 32, 32, 1)\n"
          ],
          "name": "stdout"
        }
      ]
    },
    {
      "cell_type": "markdown",
      "metadata": {
        "id": "7e7iSyWXz_GN"
      },
      "source": [
        "## 2. MLP neural network classifier\n",
        "* Build an MLP classifier model using the Sequential API. Your model should use only Flatten and Dense layers, with the final layer having a 10-way softmax output. \n",
        "* You should design and build the model yourself. Feel free to experiment with different MLP architectures. _Hint: to achieve a reasonable accuracy you won't need to use more than 4 or 5 layers._\n",
        "* Print out the model summary (using the summary() method)\n",
        "* Compile and train the model (we recommend a maximum of 30 epochs), making use of both training and validation sets during the training run. \n",
        "* Your model should track at least one appropriate metric, and use at least two callbacks during training, one of which should be a ModelCheckpoint callback.\n",
        "* As a guide, you should aim to achieve a final categorical cross entropy training loss of less than 1.0 (the validation loss might be higher).\n",
        "* Plot the learning curves for loss vs epoch and accuracy vs epoch for both training and validation sets.\n",
        "* Compute and display the loss and accuracy of the trained model on the test set."
      ]
    },
    {
      "cell_type": "code",
      "metadata": {
        "id": "l14VCBFVz_GO"
      },
      "source": [
        "def get_mlp_model(input_shape):\n",
        "  model = Sequential([\n",
        "                      Flatten(input_shape=input_shape),\n",
        "                      Dense(128, activation='relu'),\n",
        "                      Dense(128, activation='relu'),\n",
        "                      Dense(128, activation='relu'),\n",
        "                      Dense(128, activation='relu'),\n",
        "                      Dense(10, activation='softmax')\n",
        "  ])\n",
        "  model.compile(optimizer='adam', loss='sparse_categorical_crossentropy', metrics=['accuracy'])\n",
        "  return model\n",
        "  "
      ],
      "execution_count": 11,
      "outputs": []
    },
    {
      "cell_type": "code",
      "metadata": {
        "id": "7VhX8LM3ne9Y"
      },
      "source": [
        "#del model"
      ],
      "execution_count": 12,
      "outputs": []
    },
    {
      "cell_type": "code",
      "metadata": {
        "id": "beEZO1kvz_GR",
        "outputId": "a21b2fcf-24ba-453b-f2c5-cc0661e06e0a",
        "colab": {
          "base_uri": "https://localhost:8080/",
          "height": 364
        }
      },
      "source": [
        "model = get_mlp_model((train_X.shape[1], train_X.shape[2]))\n",
        "model.summary()"
      ],
      "execution_count": 13,
      "outputs": [
        {
          "output_type": "stream",
          "text": [
            "Model: \"sequential\"\n",
            "_________________________________________________________________\n",
            "Layer (type)                 Output Shape              Param #   \n",
            "=================================================================\n",
            "flatten (Flatten)            (None, 1024)              0         \n",
            "_________________________________________________________________\n",
            "dense (Dense)                (None, 128)               131200    \n",
            "_________________________________________________________________\n",
            "dense_1 (Dense)              (None, 128)               16512     \n",
            "_________________________________________________________________\n",
            "dense_2 (Dense)              (None, 128)               16512     \n",
            "_________________________________________________________________\n",
            "dense_3 (Dense)              (None, 128)               16512     \n",
            "_________________________________________________________________\n",
            "dense_4 (Dense)              (None, 10)                1290      \n",
            "=================================================================\n",
            "Total params: 182,026\n",
            "Trainable params: 182,026\n",
            "Non-trainable params: 0\n",
            "_________________________________________________________________\n"
          ],
          "name": "stdout"
        }
      ]
    },
    {
      "cell_type": "code",
      "metadata": {
        "id": "vx3DUWeXoE_W"
      },
      "source": [
        "def get_checkpoint_every_epoch():\n",
        "  return ModelCheckpoint('/content/sample_data/checkpoints/mlp/every_epoch/checkpoint-{epoch:03d}',monitor='val_accuracy', save_weights_only=True, verbose=1)\n",
        "\n",
        "def get_checkpoint_best_epoch():\n",
        "  return ModelCheckpoint('/content/sample_data/checkpoints/mlp/best_epoch/checkpoint', monitor='val_accuracy', save_weights_only=True, save_best_only=True, verbose=1)\n",
        "\n",
        "def get_early_stopping():\n",
        "  return EarlyStopping(monitor='val_accuracy', patience=3, verbose=1)"
      ],
      "execution_count": 14,
      "outputs": []
    },
    {
      "cell_type": "code",
      "metadata": {
        "id": "YxJXq3xYz_GU",
        "outputId": "6ef75cfc-f0fa-4742-b005-6ef93dbb66d7",
        "colab": {
          "base_uri": "https://localhost:8080/",
          "height": 1000
        }
      },
      "source": [
        "callbacks = [get_checkpoint_every_epoch(), get_checkpoint_best_epoch(), get_early_stopping()]\n",
        "history = model.fit(train_X1, train_y1,epochs=30, batch_size = 128, validation_split=0.15, callbacks=[callbacks])"
      ],
      "execution_count": 15,
      "outputs": [
        {
          "output_type": "stream",
          "text": [
            "Epoch 1/30\n",
            "483/487 [============================>.] - ETA: 0s - loss: 1.9849 - accuracy: 0.2899\n",
            "Epoch 00001: saving model to /content/sample_data/checkpoints/mlp/every_epoch/checkpoint-001\n",
            "\n",
            "Epoch 00001: val_accuracy improved from -inf to 0.44636, saving model to /content/sample_data/checkpoints/mlp/best_epoch/checkpoint\n",
            "487/487 [==============================] - 2s 3ms/step - loss: 1.9829 - accuracy: 0.2907 - val_loss: 1.6090 - val_accuracy: 0.4464\n",
            "Epoch 2/30\n",
            "475/487 [============================>.] - ETA: 0s - loss: 1.3947 - accuracy: 0.5312\n",
            "Epoch 00002: saving model to /content/sample_data/checkpoints/mlp/every_epoch/checkpoint-002\n",
            "\n",
            "Epoch 00002: val_accuracy improved from 0.44636 to 0.58358, saving model to /content/sample_data/checkpoints/mlp/best_epoch/checkpoint\n",
            "487/487 [==============================] - 1s 3ms/step - loss: 1.3915 - accuracy: 0.5323 - val_loss: 1.2856 - val_accuracy: 0.5836\n",
            "Epoch 3/30\n",
            "480/487 [============================>.] - ETA: 0s - loss: 1.1967 - accuracy: 0.6117\n",
            "Epoch 00003: saving model to /content/sample_data/checkpoints/mlp/every_epoch/checkpoint-003\n",
            "\n",
            "Epoch 00003: val_accuracy improved from 0.58358 to 0.61589, saving model to /content/sample_data/checkpoints/mlp/best_epoch/checkpoint\n",
            "487/487 [==============================] - 1s 3ms/step - loss: 1.1965 - accuracy: 0.6119 - val_loss: 1.1743 - val_accuracy: 0.6159\n",
            "Epoch 4/30\n",
            "478/487 [============================>.] - ETA: 0s - loss: 1.0896 - accuracy: 0.6532\n",
            "Epoch 00004: saving model to /content/sample_data/checkpoints/mlp/every_epoch/checkpoint-004\n",
            "\n",
            "Epoch 00004: val_accuracy improved from 0.61589 to 0.63791, saving model to /content/sample_data/checkpoints/mlp/best_epoch/checkpoint\n",
            "487/487 [==============================] - 1s 3ms/step - loss: 1.0903 - accuracy: 0.6530 - val_loss: 1.1222 - val_accuracy: 0.6379\n",
            "Epoch 5/30\n",
            "477/487 [============================>.] - ETA: 0s - loss: 1.0226 - accuracy: 0.6778\n",
            "Epoch 00005: saving model to /content/sample_data/checkpoints/mlp/every_epoch/checkpoint-005\n",
            "\n",
            "Epoch 00005: val_accuracy improved from 0.63791 to 0.67986, saving model to /content/sample_data/checkpoints/mlp/best_epoch/checkpoint\n",
            "487/487 [==============================] - 1s 3ms/step - loss: 1.0211 - accuracy: 0.6780 - val_loss: 1.0031 - val_accuracy: 0.6799\n",
            "Epoch 6/30\n",
            "474/487 [============================>.] - ETA: 0s - loss: 0.9814 - accuracy: 0.6898\n",
            "Epoch 00006: saving model to /content/sample_data/checkpoints/mlp/every_epoch/checkpoint-006\n",
            "\n",
            "Epoch 00006: val_accuracy improved from 0.67986 to 0.69324, saving model to /content/sample_data/checkpoints/mlp/best_epoch/checkpoint\n",
            "487/487 [==============================] - 1s 3ms/step - loss: 0.9806 - accuracy: 0.6901 - val_loss: 0.9659 - val_accuracy: 0.6932\n",
            "Epoch 7/30\n",
            "484/487 [============================>.] - ETA: 0s - loss: 0.9291 - accuracy: 0.7055\n",
            "Epoch 00007: saving model to /content/sample_data/checkpoints/mlp/every_epoch/checkpoint-007\n",
            "\n",
            "Epoch 00007: val_accuracy improved from 0.69324 to 0.70780, saving model to /content/sample_data/checkpoints/mlp/best_epoch/checkpoint\n",
            "487/487 [==============================] - 1s 3ms/step - loss: 0.9293 - accuracy: 0.7055 - val_loss: 0.9227 - val_accuracy: 0.7078\n",
            "Epoch 8/30\n",
            "487/487 [==============================] - ETA: 0s - loss: 0.8910 - accuracy: 0.7180\n",
            "Epoch 00008: saving model to /content/sample_data/checkpoints/mlp/every_epoch/checkpoint-008\n",
            "\n",
            "Epoch 00008: val_accuracy did not improve from 0.70780\n",
            "487/487 [==============================] - 1s 3ms/step - loss: 0.8910 - accuracy: 0.7180 - val_loss: 1.0063 - val_accuracy: 0.6851\n",
            "Epoch 9/30\n",
            "477/487 [============================>.] - ETA: 0s - loss: 0.8574 - accuracy: 0.7274\n",
            "Epoch 00009: saving model to /content/sample_data/checkpoints/mlp/every_epoch/checkpoint-009\n",
            "\n",
            "Epoch 00009: val_accuracy improved from 0.70780 to 0.73728, saving model to /content/sample_data/checkpoints/mlp/best_epoch/checkpoint\n",
            "487/487 [==============================] - 1s 3ms/step - loss: 0.8573 - accuracy: 0.7275 - val_loss: 0.8364 - val_accuracy: 0.7373\n",
            "Epoch 10/30\n",
            "484/487 [============================>.] - ETA: 0s - loss: 0.8236 - accuracy: 0.7404\n",
            "Epoch 00010: saving model to /content/sample_data/checkpoints/mlp/every_epoch/checkpoint-010\n",
            "\n",
            "Epoch 00010: val_accuracy did not improve from 0.73728\n",
            "487/487 [==============================] - 1s 3ms/step - loss: 0.8241 - accuracy: 0.7401 - val_loss: 0.9218 - val_accuracy: 0.7041\n",
            "Epoch 11/30\n",
            "474/487 [============================>.] - ETA: 0s - loss: 0.7925 - accuracy: 0.7498\n",
            "Epoch 00011: saving model to /content/sample_data/checkpoints/mlp/every_epoch/checkpoint-011\n",
            "\n",
            "Epoch 00011: val_accuracy did not improve from 0.73728\n",
            "487/487 [==============================] - 1s 3ms/step - loss: 0.7931 - accuracy: 0.7496 - val_loss: 0.8702 - val_accuracy: 0.7182\n",
            "Epoch 12/30\n",
            "477/487 [============================>.] - ETA: 0s - loss: 0.7630 - accuracy: 0.7603\n",
            "Epoch 00012: saving model to /content/sample_data/checkpoints/mlp/every_epoch/checkpoint-012\n",
            "\n",
            "Epoch 00012: val_accuracy improved from 0.73728 to 0.75430, saving model to /content/sample_data/checkpoints/mlp/best_epoch/checkpoint\n",
            "487/487 [==============================] - 1s 3ms/step - loss: 0.7629 - accuracy: 0.7605 - val_loss: 0.7844 - val_accuracy: 0.7543\n",
            "Epoch 13/30\n",
            "484/487 [============================>.] - ETA: 0s - loss: 0.7485 - accuracy: 0.7639\n",
            "Epoch 00013: saving model to /content/sample_data/checkpoints/mlp/every_epoch/checkpoint-013\n",
            "\n",
            "Epoch 00013: val_accuracy did not improve from 0.75430\n",
            "487/487 [==============================] - 1s 3ms/step - loss: 0.7484 - accuracy: 0.7640 - val_loss: 0.7869 - val_accuracy: 0.7520\n",
            "Epoch 14/30\n",
            "471/487 [============================>.] - ETA: 0s - loss: 0.7293 - accuracy: 0.7684\n",
            "Epoch 00014: saving model to /content/sample_data/checkpoints/mlp/every_epoch/checkpoint-014\n",
            "\n",
            "Epoch 00014: val_accuracy did not improve from 0.75430\n",
            "487/487 [==============================] - 1s 3ms/step - loss: 0.7296 - accuracy: 0.7685 - val_loss: 0.8644 - val_accuracy: 0.7222\n",
            "Epoch 15/30\n",
            "471/487 [============================>.] - ETA: 0s - loss: 0.7084 - accuracy: 0.7766\n",
            "Epoch 00015: saving model to /content/sample_data/checkpoints/mlp/every_epoch/checkpoint-015\n",
            "\n",
            "Epoch 00015: val_accuracy improved from 0.75430 to 0.76276, saving model to /content/sample_data/checkpoints/mlp/best_epoch/checkpoint\n",
            "487/487 [==============================] - 2s 3ms/step - loss: 0.7092 - accuracy: 0.7766 - val_loss: 0.7610 - val_accuracy: 0.7628\n",
            "Epoch 16/30\n",
            "480/487 [============================>.] - ETA: 0s - loss: 0.6946 - accuracy: 0.7816\n",
            "Epoch 00016: saving model to /content/sample_data/checkpoints/mlp/every_epoch/checkpoint-016\n",
            "\n",
            "Epoch 00016: val_accuracy did not improve from 0.76276\n",
            "487/487 [==============================] - 2s 3ms/step - loss: 0.6961 - accuracy: 0.7813 - val_loss: 0.7595 - val_accuracy: 0.7610\n",
            "Epoch 17/30\n",
            "482/487 [============================>.] - ETA: 0s - loss: 0.6737 - accuracy: 0.7875\n",
            "Epoch 00017: saving model to /content/sample_data/checkpoints/mlp/every_epoch/checkpoint-017\n",
            "\n",
            "Epoch 00017: val_accuracy did not improve from 0.76276\n",
            "487/487 [==============================] - 1s 3ms/step - loss: 0.6737 - accuracy: 0.7874 - val_loss: 0.7700 - val_accuracy: 0.7605\n",
            "Epoch 18/30\n",
            "486/487 [============================>.] - ETA: 0s - loss: 0.6678 - accuracy: 0.7879\n",
            "Epoch 00018: saving model to /content/sample_data/checkpoints/mlp/every_epoch/checkpoint-018\n",
            "\n",
            "Epoch 00018: val_accuracy did not improve from 0.76276\n",
            "487/487 [==============================] - 1s 3ms/step - loss: 0.6680 - accuracy: 0.7879 - val_loss: 0.8173 - val_accuracy: 0.7453\n",
            "Epoch 00018: early stopping\n"
          ],
          "name": "stdout"
        }
      ]
    },
    {
      "cell_type": "code",
      "metadata": {
        "id": "pPPbzGhVz_GW",
        "outputId": "bf70b685-250c-4c9f-82cd-64439e932468",
        "colab": {
          "base_uri": "https://localhost:8080/",
          "height": 206
        }
      },
      "source": [
        "df = pd.DataFrame(history.history)\n",
        "df.head()"
      ],
      "execution_count": 16,
      "outputs": [
        {
          "output_type": "execute_result",
          "data": {
            "text/html": [
              "<div>\n",
              "<style scoped>\n",
              "    .dataframe tbody tr th:only-of-type {\n",
              "        vertical-align: middle;\n",
              "    }\n",
              "\n",
              "    .dataframe tbody tr th {\n",
              "        vertical-align: top;\n",
              "    }\n",
              "\n",
              "    .dataframe thead th {\n",
              "        text-align: right;\n",
              "    }\n",
              "</style>\n",
              "<table border=\"1\" class=\"dataframe\">\n",
              "  <thead>\n",
              "    <tr style=\"text-align: right;\">\n",
              "      <th></th>\n",
              "      <th>loss</th>\n",
              "      <th>accuracy</th>\n",
              "      <th>val_loss</th>\n",
              "      <th>val_accuracy</th>\n",
              "    </tr>\n",
              "  </thead>\n",
              "  <tbody>\n",
              "    <tr>\n",
              "      <th>0</th>\n",
              "      <td>1.982859</td>\n",
              "      <td>0.290679</td>\n",
              "      <td>1.608966</td>\n",
              "      <td>0.446355</td>\n",
              "    </tr>\n",
              "    <tr>\n",
              "      <th>1</th>\n",
              "      <td>1.391528</td>\n",
              "      <td>0.532264</td>\n",
              "      <td>1.285650</td>\n",
              "      <td>0.583584</td>\n",
              "    </tr>\n",
              "    <tr>\n",
              "      <th>2</th>\n",
              "      <td>1.196506</td>\n",
              "      <td>0.611903</td>\n",
              "      <td>1.174320</td>\n",
              "      <td>0.615889</td>\n",
              "    </tr>\n",
              "    <tr>\n",
              "      <th>3</th>\n",
              "      <td>1.090316</td>\n",
              "      <td>0.653032</td>\n",
              "      <td>1.122156</td>\n",
              "      <td>0.637911</td>\n",
              "    </tr>\n",
              "    <tr>\n",
              "      <th>4</th>\n",
              "      <td>1.021102</td>\n",
              "      <td>0.678021</td>\n",
              "      <td>1.003071</td>\n",
              "      <td>0.679862</td>\n",
              "    </tr>\n",
              "  </tbody>\n",
              "</table>\n",
              "</div>"
            ],
            "text/plain": [
              "       loss  accuracy  val_loss  val_accuracy\n",
              "0  1.982859  0.290679  1.608966      0.446355\n",
              "1  1.391528  0.532264  1.285650      0.583584\n",
              "2  1.196506  0.611903  1.174320      0.615889\n",
              "3  1.090316  0.653032  1.122156      0.637911\n",
              "4  1.021102  0.678021  1.003071      0.679862"
            ]
          },
          "metadata": {
            "tags": []
          },
          "execution_count": 16
        }
      ]
    },
    {
      "cell_type": "code",
      "metadata": {
        "id": "7b5_8VsCz_GZ",
        "outputId": "f2a421f1-2c76-4de4-da4c-b30173513fd6",
        "colab": {
          "base_uri": "https://localhost:8080/",
          "height": 530
        }
      },
      "source": [
        "df[['loss', 'accuracy']].plot()\n",
        "df[['val_loss', 'val_accuracy']].plot()"
      ],
      "execution_count": 17,
      "outputs": [
        {
          "output_type": "execute_result",
          "data": {
            "text/plain": [
              "<matplotlib.axes._subplots.AxesSubplot at 0x7f976434b828>"
            ]
          },
          "metadata": {
            "tags": []
          },
          "execution_count": 17
        },
        {
          "output_type": "display_data",
          "data": {
            "image/png": "[encoded data removed]",
            "text/plain": [
              "<Figure size 432x288 with 1 Axes>"
            ]
          },
          "metadata": {
            "tags": [],
            "needs_background": "light"
          }
        },
        {
          "output_type": "display_data",
          "data": {
            "image/png": "[encoded data removed]",
            "text/plain": [
              "<Figure size 432x288 with 1 Axes>"
            ]
          },
          "metadata": {
            "tags": [],
            "needs_background": "light"
          }
        }
      ]
    },
    {
      "cell_type": "code",
      "metadata": {
        "id": "b0kH6VYqz_Gc"
      },
      "source": [
        ""
      ],
      "execution_count": 17,
      "outputs": []
    },
    {
      "cell_type": "markdown",
      "metadata": {
        "id": "ncPtDtCLz_Gg"
      },
      "source": [
        "## 3. CNN neural network classifier\n",
        "* Build a CNN classifier model using the Sequential API. Your model should use the Conv2D, MaxPool2D, BatchNormalization, Flatten, Dense and Dropout layers. The final layer should again have a 10-way softmax output. \n",
        "* You should design and build the model yourself. Feel free to experiment with different CNN architectures. _Hint: to achieve a reasonable accuracy you won't need to use more than 2 or 3 convolutional layers and 2 fully connected layers.)_\n",
        "* The CNN model should use fewer trainable parameters than your MLP model.\n",
        "* Compile and train the model (we recommend a maximum of 30 epochs), making use of both training and validation sets during the training run.\n",
        "* Your model should track at least one appropriate metric, and use at least two callbacks during training, one of which should be a ModelCheckpoint callback.\n",
        "* You should aim to beat the MLP model performance with fewer parameters!\n",
        "* Plot the learning curves for loss vs epoch and accuracy vs epoch for both training and validation sets.\n",
        "* Compute and display the loss and accuracy of the trained model on the test set."
      ]
    },
    {
      "cell_type": "code",
      "metadata": {
        "id": "yk2mH3Npz_Gh"
      },
      "source": [
        "del model"
      ],
      "execution_count": 18,
      "outputs": []
    },
    {
      "cell_type": "code",
      "metadata": {
        "id": "lbgRgZ5cz_Gn"
      },
      "source": [
        "def get_cnn_model(input_shape):\n",
        "  model = Sequential([\n",
        "                      Conv2D(filters=32, kernel_size=3, padding='same', activation='relu', input_shape=input_shape),\n",
        "                      MaxPool2D(pool_size=2),\n",
        "                      Conv2D(filters=32, kernel_size=3, padding='same', activation='relu'),\n",
        "                      BatchNormalization(),\n",
        "                      MaxPool2D(pool_size=2),\n",
        "                      Conv2D(filters=32, kernel_size=3, padding='same', activation='relu'),\n",
        "                      MaxPool2D(pool_size=2),\n",
        "                      Flatten(),\n",
        "                      Dense(32, activation='relu'),\n",
        "                      Dense(10, activation='softmax')\n",
        "  ])\n",
        "\n",
        "  model.compile(optimizer='adam', loss='sparse_categorical_crossentropy', metrics=['accuracy'])\n",
        "  return model"
      ],
      "execution_count": 19,
      "outputs": []
    },
    {
      "cell_type": "code",
      "metadata": {
        "id": "nkmS2vV2z_Gs",
        "outputId": "03b82d43-c4af-42e4-8fae-608e5b9e94f9",
        "colab": {
          "base_uri": "https://localhost:8080/",
          "height": 503
        }
      },
      "source": [
        "model = get_cnn_model((train_X1.shape[1], train_X1.shape[2], train_X1.shape[3]))\n",
        "model.summary()"
      ],
      "execution_count": 20,
      "outputs": [
        {
          "output_type": "stream",
          "text": [
            "Model: \"sequential_1\"\n",
            "_________________________________________________________________\n",
            "Layer (type)                 Output Shape              Param #   \n",
            "=================================================================\n",
            "conv2d (Conv2D)              (None, 32, 32, 32)        320       \n",
            "_________________________________________________________________\n",
            "max_pooling2d (MaxPooling2D) (None, 16, 16, 32)        0         \n",
            "_________________________________________________________________\n",
            "conv2d_1 (Conv2D)            (None, 16, 16, 32)        9248      \n",
            "_________________________________________________________________\n",
            "batch_normalization (BatchNo (None, 16, 16, 32)        128       \n",
            "_________________________________________________________________\n",
            "max_pooling2d_1 (MaxPooling2 (None, 8, 8, 32)          0         \n",
            "_________________________________________________________________\n",
            "conv2d_2 (Conv2D)            (None, 8, 8, 32)          9248      \n",
            "_________________________________________________________________\n",
            "max_pooling2d_2 (MaxPooling2 (None, 4, 4, 32)          0         \n",
            "_________________________________________________________________\n",
            "flatten_1 (Flatten)          (None, 512)               0         \n",
            "_________________________________________________________________\n",
            "dense_5 (Dense)              (None, 32)                16416     \n",
            "_________________________________________________________________\n",
            "dense_6 (Dense)              (None, 10)                330       \n",
            "=================================================================\n",
            "Total params: 35,690\n",
            "Trainable params: 35,626\n",
            "Non-trainable params: 64\n",
            "_________________________________________________________________\n"
          ],
          "name": "stdout"
        }
      ]
    },
    {
      "cell_type": "code",
      "metadata": {
        "id": "Rp2N31ZEyHWL"
      },
      "source": [
        "def get_checkpoint_every_epoch():\n",
        "  return ModelCheckpoint('/content/sample_data/checkpoints/cnn/every_epoch/checkpoint-{epoch:03d}',monitor='val_accuracy', save_weights_only=True, verbose=1)\n",
        "\n",
        "def get_checkpoint_best_epoch():\n",
        "  return ModelCheckpoint('/content/sample_data/checkpoints/cnn/best_epoch/checkpoint', monitor='val_accuracy', save_weights_only=True, save_best_only=True, verbose=1)\n",
        "\n",
        "def get_early_stopping():\n",
        "  return EarlyStopping(monitor='val_accuracy', patience=3, verbose=1)"
      ],
      "execution_count": 21,
      "outputs": []
    },
    {
      "cell_type": "code",
      "metadata": {
        "id": "VytQECDVz_Gv",
        "outputId": "74556574-66d1-4f21-a7af-600148f28fb6",
        "colab": {
          "base_uri": "https://localhost:8080/",
          "height": 1000
        }
      },
      "source": [
        "callbacks=[get_checkpoint_every_epoch(), get_checkpoint_best_epoch(), get_early_stopping()]\n",
        "model.fit(train_X1, train_y1, batch_size=128, epochs=25, validation_split=0.15, callbacks=[callbacks])"
      ],
      "execution_count": 22,
      "outputs": [
        {
          "output_type": "stream",
          "text": [
            "Epoch 1/25\n",
            "487/487 [==============================] - ETA: 0s - loss: 1.1095 - accuracy: 0.6413\n",
            "Epoch 00001: saving model to /content/sample_data/checkpoints/cnn/every_epoch/checkpoint-001\n",
            "\n",
            "Epoch 00001: val_accuracy improved from -inf to 0.79752, saving model to /content/sample_data/checkpoints/cnn/best_epoch/checkpoint\n",
            "487/487 [==============================] - 3s 6ms/step - loss: 1.1095 - accuracy: 0.6413 - val_loss: 0.8167 - val_accuracy: 0.7975\n",
            "Epoch 2/25\n",
            "485/487 [============================>.] - ETA: 0s - loss: 0.5398 - accuracy: 0.8392\n",
            "Epoch 00002: saving model to /content/sample_data/checkpoints/cnn/every_epoch/checkpoint-002\n",
            "\n",
            "Epoch 00002: val_accuracy improved from 0.79752 to 0.84330, saving model to /content/sample_data/checkpoints/cnn/best_epoch/checkpoint\n",
            "487/487 [==============================] - 2s 5ms/step - loss: 0.5399 - accuracy: 0.8391 - val_loss: 0.5261 - val_accuracy: 0.8433\n",
            "Epoch 3/25\n",
            "486/487 [============================>.] - ETA: 0s - loss: 0.4514 - accuracy: 0.8675\n",
            "Epoch 00003: saving model to /content/sample_data/checkpoints/cnn/every_epoch/checkpoint-003\n",
            "\n",
            "Epoch 00003: val_accuracy improved from 0.84330 to 0.85968, saving model to /content/sample_data/checkpoints/cnn/best_epoch/checkpoint\n",
            "487/487 [==============================] - 2s 5ms/step - loss: 0.4512 - accuracy: 0.8675 - val_loss: 0.4721 - val_accuracy: 0.8597\n",
            "Epoch 4/25\n",
            "485/487 [============================>.] - ETA: 0s - loss: 0.4027 - accuracy: 0.8820\n",
            "Epoch 00004: saving model to /content/sample_data/checkpoints/cnn/every_epoch/checkpoint-004\n",
            "\n",
            "Epoch 00004: val_accuracy improved from 0.85968 to 0.87315, saving model to /content/sample_data/checkpoints/cnn/best_epoch/checkpoint\n",
            "487/487 [==============================] - 2s 5ms/step - loss: 0.4027 - accuracy: 0.8820 - val_loss: 0.4358 - val_accuracy: 0.8731\n",
            "Epoch 5/25\n",
            "486/487 [============================>.] - ETA: 0s - loss: 0.3662 - accuracy: 0.8918\n",
            "Epoch 00005: saving model to /content/sample_data/checkpoints/cnn/every_epoch/checkpoint-005\n",
            "\n",
            "Epoch 00005: val_accuracy improved from 0.87315 to 0.87342, saving model to /content/sample_data/checkpoints/cnn/best_epoch/checkpoint\n",
            "487/487 [==============================] - 2s 5ms/step - loss: 0.3662 - accuracy: 0.8918 - val_loss: 0.4339 - val_accuracy: 0.8734\n",
            "Epoch 6/25\n",
            "485/487 [============================>.] - ETA: 0s - loss: 0.3441 - accuracy: 0.8986\n",
            "Epoch 00006: saving model to /content/sample_data/checkpoints/cnn/every_epoch/checkpoint-006\n",
            "\n",
            "Epoch 00006: val_accuracy improved from 0.87342 to 0.88161, saving model to /content/sample_data/checkpoints/cnn/best_epoch/checkpoint\n",
            "487/487 [==============================] - 2s 5ms/step - loss: 0.3439 - accuracy: 0.8986 - val_loss: 0.4091 - val_accuracy: 0.8816\n",
            "Epoch 7/25\n",
            "482/487 [============================>.] - ETA: 0s - loss: 0.3242 - accuracy: 0.9045\n",
            "Epoch 00007: saving model to /content/sample_data/checkpoints/cnn/every_epoch/checkpoint-007\n",
            "\n",
            "Epoch 00007: val_accuracy did not improve from 0.88161\n",
            "487/487 [==============================] - 2s 5ms/step - loss: 0.3241 - accuracy: 0.9046 - val_loss: 0.4105 - val_accuracy: 0.8792\n",
            "Epoch 8/25\n",
            "483/487 [============================>.] - ETA: 0s - loss: 0.3091 - accuracy: 0.9086\n",
            "Epoch 00008: saving model to /content/sample_data/checkpoints/cnn/every_epoch/checkpoint-008\n",
            "\n",
            "Epoch 00008: val_accuracy improved from 0.88161 to 0.89153, saving model to /content/sample_data/checkpoints/cnn/best_epoch/checkpoint\n",
            "487/487 [==============================] - 2s 5ms/step - loss: 0.3086 - accuracy: 0.9088 - val_loss: 0.3761 - val_accuracy: 0.8915\n",
            "Epoch 9/25\n",
            "481/487 [============================>.] - ETA: 0s - loss: 0.2940 - accuracy: 0.9127\n",
            "Epoch 00009: saving model to /content/sample_data/checkpoints/cnn/every_epoch/checkpoint-009\n",
            "\n",
            "Epoch 00009: val_accuracy did not improve from 0.89153\n",
            "487/487 [==============================] - 2s 5ms/step - loss: 0.2940 - accuracy: 0.9129 - val_loss: 0.3919 - val_accuracy: 0.8843\n",
            "Epoch 10/25\n",
            "477/487 [============================>.] - ETA: 0s - loss: 0.2807 - accuracy: 0.9168\n",
            "Epoch 00010: saving model to /content/sample_data/checkpoints/cnn/every_epoch/checkpoint-010\n",
            "\n",
            "Epoch 00010: val_accuracy did not improve from 0.89153\n",
            "487/487 [==============================] - 2s 5ms/step - loss: 0.2812 - accuracy: 0.9168 - val_loss: 0.4099 - val_accuracy: 0.8832\n",
            "Epoch 11/25\n",
            "487/487 [==============================] - ETA: 0s - loss: 0.2705 - accuracy: 0.9198\n",
            "Epoch 00011: saving model to /content/sample_data/checkpoints/cnn/every_epoch/checkpoint-011\n",
            "\n",
            "Epoch 00011: val_accuracy improved from 0.89153 to 0.89762, saving model to /content/sample_data/checkpoints/cnn/best_epoch/checkpoint\n",
            "487/487 [==============================] - 2s 5ms/step - loss: 0.2705 - accuracy: 0.9198 - val_loss: 0.3651 - val_accuracy: 0.8976\n",
            "Epoch 12/25\n",
            "478/487 [============================>.] - ETA: 0s - loss: 0.2600 - accuracy: 0.9237\n",
            "Epoch 00012: saving model to /content/sample_data/checkpoints/cnn/every_epoch/checkpoint-012\n",
            "\n",
            "Epoch 00012: val_accuracy did not improve from 0.89762\n",
            "487/487 [==============================] - 2s 5ms/step - loss: 0.2603 - accuracy: 0.9234 - val_loss: 0.3734 - val_accuracy: 0.8974\n",
            "Epoch 13/25\n",
            "480/487 [============================>.] - ETA: 0s - loss: 0.2543 - accuracy: 0.9252\n",
            "Epoch 00013: saving model to /content/sample_data/checkpoints/cnn/every_epoch/checkpoint-013\n",
            "\n",
            "Epoch 00013: val_accuracy improved from 0.89762 to 0.89872, saving model to /content/sample_data/checkpoints/cnn/best_epoch/checkpoint\n",
            "487/487 [==============================] - 2s 5ms/step - loss: 0.2544 - accuracy: 0.9250 - val_loss: 0.3706 - val_accuracy: 0.8987\n",
            "Epoch 14/25\n",
            "481/487 [============================>.] - ETA: 0s - loss: 0.2458 - accuracy: 0.9266\n",
            "Epoch 00014: saving model to /content/sample_data/checkpoints/cnn/every_epoch/checkpoint-014\n",
            "\n",
            "Epoch 00014: val_accuracy did not improve from 0.89872\n",
            "487/487 [==============================] - 2s 5ms/step - loss: 0.2459 - accuracy: 0.9264 - val_loss: 0.4115 - val_accuracy: 0.8889\n",
            "Epoch 15/25\n",
            "487/487 [==============================] - ETA: 0s - loss: 0.2386 - accuracy: 0.9285\n",
            "Epoch 00015: saving model to /content/sample_data/checkpoints/cnn/every_epoch/checkpoint-015\n",
            "\n",
            "Epoch 00015: val_accuracy did not improve from 0.89872\n",
            "487/487 [==============================] - 2s 5ms/step - loss: 0.2386 - accuracy: 0.9285 - val_loss: 0.3838 - val_accuracy: 0.8906\n",
            "Epoch 16/25\n",
            "482/487 [============================>.] - ETA: 0s - loss: 0.2319 - accuracy: 0.9311\n",
            "Epoch 00016: saving model to /content/sample_data/checkpoints/cnn/every_epoch/checkpoint-016\n",
            "\n",
            "Epoch 00016: val_accuracy did not improve from 0.89872\n",
            "487/487 [==============================] - 2s 5ms/step - loss: 0.2312 - accuracy: 0.9314 - val_loss: 0.3821 - val_accuracy: 0.8936\n",
            "Epoch 00016: early stopping\n"
          ],
          "name": "stdout"
        },
        {
          "output_type": "execute_result",
          "data": {
            "text/plain": [
              "<tensorflow.python.keras.callbacks.History at 0x7f97641fa6d8>"
            ]
          },
          "metadata": {
            "tags": []
          },
          "execution_count": 22
        }
      ]
    },
    {
      "cell_type": "code",
      "metadata": {
        "id": "60mJypwQz_Gx",
        "outputId": "da437197-a2b8-4d74-8f22-7df584c92037",
        "colab": {
          "base_uri": "https://localhost:8080/",
          "height": 530
        }
      },
      "source": [
        "df[['loss', 'accuracy']].plot()\n",
        "df[['val_loss', 'val_accuracy']].plot()"
      ],
      "execution_count": 23,
      "outputs": [
        {
          "output_type": "execute_result",
          "data": {
            "text/plain": [
              "<matplotlib.axes._subplots.AxesSubplot at 0x7f9764038240>"
            ]
          },
          "metadata": {
            "tags": []
          },
          "execution_count": 23
        },
        {
          "output_type": "display_data",
          "data": {
            "image/png": "[encoded data removed]",
            "text/plain": [
              "<Figure size 432x288 with 1 Axes>"
            ]
          },
          "metadata": {
            "tags": [],
            "needs_background": "light"
          }
        },
        {
          "output_type": "display_data",
          "data": {
            "image/png": "[encoded data removed]",
            "text/plain": [
              "<Figure size 432x288 with 1 Axes>"
            ]
          },
          "metadata": {
            "tags": [],
            "needs_background": "light"
          }
        }
      ]
    },
    {
      "cell_type": "code",
      "metadata": {
        "id": "w2v80qosz_G0"
      },
      "source": [
        ""
      ],
      "execution_count": 23,
      "outputs": []
    },
    {
      "cell_type": "markdown",
      "metadata": {
        "id": "3iBYFPWUz_G4"
      },
      "source": [
        "## 4. Get model predictions\n",
        "* Load the best weights for the MLP and CNN models that you saved during the training run.\n",
        "* Randomly select 5 images and corresponding labels from the test set and display the images with their labels.\n",
        "* Alongside the image and label, show each model’s predictive distribution as a bar chart, and the final model prediction given by the label with maximum probability."
      ]
    },
    {
      "cell_type": "code",
      "metadata": {
        "id": "2t8uVX5q25Qs"
      },
      "source": [
        "#!rm -r /content/sample_data/checkpoints"
      ],
      "execution_count": 24,
      "outputs": []
    },
    {
      "cell_type": "code",
      "metadata": {
        "id": "jVy46X7F08Ud",
        "outputId": "73cdcd48-84c6-4901-be99-dccd4e07a3db",
        "colab": {
          "base_uri": "https://localhost:8080/",
          "height": 156
        }
      },
      "source": [
        "!ls -lh /content/sample_data/checkpoints/mlp/best_epoch/\n",
        "!ls -lh /content/sample_data/checkpoints/cnn/best_epoch/"
      ],
      "execution_count": 25,
      "outputs": [
        {
          "output_type": "stream",
          "text": [
            "total 2.1M\n",
            "-rw-r--r-- 1 root root   77 Oct 12 01:18 checkpoint\n",
            "-rw-r--r-- 1 root root 2.1M Oct 12 01:18 checkpoint.data-00000-of-00001\n",
            "-rw-r--r-- 1 root root 2.4K Oct 12 01:18 checkpoint.index\n",
            "total 432K\n",
            "-rw-r--r-- 1 root root   77 Oct 12 01:19 checkpoint\n",
            "-rw-r--r-- 1 root root 424K Oct 12 01:19 checkpoint.data-00000-of-00001\n",
            "-rw-r--r-- 1 root root 3.0K Oct 12 01:19 checkpoint.index\n"
          ],
          "name": "stdout"
        }
      ]
    },
    {
      "cell_type": "code",
      "metadata": {
        "id": "XMYYWs0oz_G5"
      },
      "source": [
        "def get_mlp_model_best_epoch(model):\n",
        "    \"\"\"\n",
        "    This function should create a new instance of the CNN you created earlier, load \n",
        "    on the weights leading to the highest validation accuracy, and return this model.\n",
        "    \"\"\"\n",
        "    model.load_weights('/content/sample_data/checkpoints/mlp/best_epoch/checkpoint')\n",
        "    return model\n",
        "\n",
        "def get_cnn_model_best_epoch(model):\n",
        "    \"\"\"\n",
        "    This function should create a new instance of the CNN you created earlier, load \n",
        "    on the weights leading to the highest validation accuracy, and return this model.\n",
        "    \"\"\"\n",
        "    model.load_weights('/content/sample_data/checkpoints/cnn/best_epoch/checkpoint')\n",
        "    return model"
      ],
      "execution_count": 26,
      "outputs": []
    },
    {
      "cell_type": "code",
      "metadata": {
        "id": "8yUPWbFCz_G8"
      },
      "source": [
        "model_mlp= get_mlp_model_best_epoch(get_mlp_model((train_X.shape[1], train_X.shape[2])))\n",
        "model_cnn= get_cnn_model_best_epoch(get_cnn_model((train_X.shape[1], train_X.shape[2], train_X.shape[3])))"
      ],
      "execution_count": 27,
      "outputs": []
    },
    {
      "cell_type": "code",
      "metadata": {
        "id": "jXq6nMS04JVX",
        "outputId": "9b0fda6b-5136-4ae9-b771-af5b44dd092b",
        "colab": {
          "base_uri": "https://localhost:8080/",
          "height": 232
        }
      },
      "source": [
        "random.seed(1)\n",
        "\n",
        "rows=2\n",
        "columns=5\n",
        "\n",
        "fig=plt.figure(figsize=(10, 5))\n",
        "\n",
        "for i in range(2):\n",
        "  r = random.randint(1, 1000)\n",
        "  print('sample # ', r)\n",
        "  fig.add_subplot(rows, columns, i+1)\n",
        "  plt.imshow(train_X[r, :,:,:].squeeze(), cmap=plt.get_cmap('gray'))  #jet is another arg for get_cmap()\n",
        "  plt.axis(False)\n",
        "  plt.title(train_y[r])\n",
        "plt.show()"
      ],
      "execution_count": 28,
      "outputs": [
        {
          "output_type": "stream",
          "text": [
            "sample #  138\n",
            "sample #  583\n"
          ],
          "name": "stdout"
        },
        {
          "output_type": "stream",
          "text": [
            "/usr/local/lib/python3.6/dist-packages/matplotlib/text.py:1165: FutureWarning: elementwise comparison failed; returning scalar instead, but in the future will perform elementwise comparison\n",
            "  if s != self._text:\n"
          ],
          "name": "stderr"
        },
        {
          "output_type": "display_data",
          "data": {
            "image/png": "[encoded data removed]",
            "text/plain": [
              "<Figure size 720x360 with 2 Axes>"
            ]
          },
          "metadata": {
            "tags": [],
            "needs_background": "light"
          }
        }
      ]
    },
    {
      "cell_type": "code",
      "metadata": {
        "id": "J_qfLvK-z_HA",
        "outputId": "85a674a8-3b79-4e98-9bae-f6d89b315805",
        "colab": {
          "base_uri": "https://localhost:8080/",
          "height": 555
        }
      },
      "source": [
        "img_num = 2\n",
        "print(test_X1.shape)\n",
        "img = test_X1[img_num,:,:,:]\n",
        "img = img[np.newaxis,...]\n",
        "print(img.shape)\n",
        "\n",
        "fig=plt.figure(figsize=(10, 5))\n",
        "fig.add_subplot(1, 2, 1)\n",
        "\n",
        "plt.imshow(img.squeeze())\n",
        "plt.title(test_y1[img_num,:])\n",
        "plt.axis(False)\n",
        "\n",
        "\n",
        "pred = model_mlp.predict(img)\n",
        "print('Shape of pred =', pred.shape)\n",
        "pred = pred.reshape(10)\n",
        "print('\\nPrediction Probability=')\n",
        "print(pred)\n",
        "print('\\nPrediction value=', np.argmax(pred))\n",
        "\n",
        "fig.add_subplot(1, 2, 2)\n",
        "plt.bar(np.arange(len(pred)), pred.squeeze())\n"
      ],
      "execution_count": 84,
      "outputs": [
        {
          "output_type": "stream",
          "text": [
            "(26032, 32, 32, 1)\n",
            "(1, 32, 32, 1)\n",
            "Shape of pred = (1, 10)\n",
            "\n",
            "Prediction Probability=\n",
            "[4.0727817e-03 9.5805579e-01 4.4043646e-03 4.1324049e-03 2.0274324e-02\n",
            " 1.7616837e-04 1.7532114e-03 1.8048804e-03 3.9069252e-03 1.4191462e-03]\n",
            "\n",
            "Prediction value= 1\n"
          ],
          "name": "stdout"
        },
        {
          "output_type": "stream",
          "text": [
            "/usr/local/lib/python3.6/dist-packages/matplotlib/text.py:1165: FutureWarning: elementwise comparison failed; returning scalar instead, but in the future will perform elementwise comparison\n",
            "  if s != self._text:\n"
          ],
          "name": "stderr"
        },
        {
          "output_type": "execute_result",
          "data": {
            "text/plain": [
              "<BarContainer object of 10 artists>"
            ]
          },
          "metadata": {
            "tags": []
          },
          "execution_count": 84
        },
        {
          "output_type": "display_data",
          "data": {
            "image/png": "[encoded data removed]",
            "text/plain": [
              "<Figure size 720x360 with 2 Axes>"
            ]
          },
          "metadata": {
            "tags": [],
            "needs_background": "light"
          }
        }
      ]
    },
    {
      "cell_type": "code",
      "metadata": {
        "id": "EhY79B0lihcp"
      },
      "source": [
        "def print_prediction(test_y, img_num, pred_prob):\n",
        "\n",
        "  img = test_X1[img_num,:,:,:]\n",
        "  img = img[np.newaxis,...]\n",
        "\n",
        "  fig=plt.figure(figsize=(10, 5))\n",
        "  fig.add_subplot(1, 2, 1)\n",
        "\n",
        "  plt.imshow(img.squeeze())\n",
        "  plt.title(test_y[img_num,:])\n",
        "  plt.axis(False)\n",
        "\n",
        "  fig.add_subplot(1, 2, 2)\n",
        "  plt.bar(np.arange(len(pred_prob)), pred_prob.squeeze())\n",
        "  plt.show()"
      ],
      "execution_count": 128,
      "outputs": []
    },
    {
      "cell_type": "code",
      "metadata": {
        "id": "2Lx68VA7z_HE"
      },
      "source": [
        "#print_prediction(test_y1, 2, pred)"
      ],
      "execution_count": 129,
      "outputs": []
    },
    {
      "cell_type": "markdown",
      "metadata": {
        "id": "bsiuzWl_sCxg"
      },
      "source": [
        "# MLP Model predictions"
      ]
    },
    {
      "cell_type": "code",
      "metadata": {
        "id": "NxKa37PWz_HL",
        "outputId": "eba87d0b-e494-4bc4-ea54-59b2878fdfcf",
        "colab": {
          "base_uri": "https://localhost:8080/",
          "height": 1000
        }
      },
      "source": [
        "#MLP Model\n",
        "no_images = len(test_X1)\n",
        "np.random.seed(100)\n",
        "for i in range(5):\n",
        "  r = np.random.randint(1, no_images)\n",
        "  img = test_X1[r,:,:,:]\n",
        "  img = img[np.newaxis,...]\n",
        "  \n",
        "  pred = model_mlp.predict(img)\n",
        "  pred = pred.reshape(10)\n",
        "  print('\\nPrediction Probability=')\n",
        "  print(pred)\n",
        "  print('\\nPrediction value=', np.argmax(pred))\n",
        "  print_prediction(test_y,r,pred)\n"
      ],
      "execution_count": 137,
      "outputs": [
        {
          "output_type": "stream",
          "text": [
            "\n",
            "Prediction Probability=\n",
            "[0.54293525 0.2896461  0.00720736 0.01634644 0.0160004  0.01551291\n",
            " 0.03710887 0.03343358 0.02708726 0.01472184]\n",
            "\n",
            "Prediction value= 0\n"
          ],
          "name": "stdout"
        },
        {
          "output_type": "stream",
          "text": [
            "/usr/local/lib/python3.6/dist-packages/matplotlib/text.py:1165: FutureWarning: elementwise comparison failed; returning scalar instead, but in the future will perform elementwise comparison\n",
            "  if s != self._text:\n"
          ],
          "name": "stderr"
        },
        {
          "output_type": "display_data",
          "data": {
            "image/png": "[encoded data removed]",
            "text/plain": [
              "<Figure size 720x360 with 2 Axes>"
            ]
          },
          "metadata": {
            "tags": [],
            "needs_background": "light"
          }
        },
        {
          "output_type": "stream",
          "text": [
            "\n",
            "Prediction Probability=\n",
            "[0.03286401 0.03079475 0.53015554 0.06217588 0.03126721 0.00366831\n",
            " 0.02310481 0.23702376 0.01674283 0.0322029 ]\n",
            "\n",
            "Prediction value= 2\n"
          ],
          "name": "stdout"
        },
        {
          "output_type": "display_data",
          "data": {
            "image/png": "[encoded data removed]",
            "text/plain": [
              "<Figure size 720x360 with 2 Axes>"
            ]
          },
          "metadata": {
            "tags": [],
            "needs_background": "light"
          }
        },
        {
          "output_type": "stream",
          "text": [
            "\n",
            "Prediction Probability=\n",
            "[6.1463419e-04 5.9440732e-03 3.1205958e-03 9.5084268e-01 4.8434320e-03\n",
            " 2.3975320e-02 2.1315875e-04 9.8434407e-03 4.6382836e-04 1.3869858e-04]\n",
            "\n",
            "Prediction value= 3\n"
          ],
          "name": "stdout"
        },
        {
          "output_type": "display_data",
          "data": {
            "image/png": "[encoded data removed]",
            "text/plain": [
              "<Figure size 720x360 with 2 Axes>"
            ]
          },
          "metadata": {
            "tags": [],
            "needs_background": "light"
          }
        },
        {
          "output_type": "stream",
          "text": [
            "\n",
            "Prediction Probability=\n",
            "[0.0368063  0.02910286 0.8871434  0.00675268 0.00194818 0.00113043\n",
            " 0.00534653 0.01615863 0.00109502 0.01451593]\n",
            "\n",
            "Prediction value= 2\n"
          ],
          "name": "stdout"
        },
        {
          "output_type": "display_data",
          "data": {
            "image/png": "[encoded data removed]",
            "text/plain": [
              "<Figure size 720x360 with 2 Axes>"
            ]
          },
          "metadata": {
            "tags": [],
            "needs_background": "light"
          }
        },
        {
          "output_type": "stream",
          "text": [
            "\n",
            "Prediction Probability=\n",
            "[2.9031504e-03 1.6320780e-02 2.2562659e-04 1.0641536e-03 9.7320414e-01\n",
            " 3.3489018e-04 1.2515483e-03 5.5239524e-04 3.7678867e-04 3.7664569e-03]\n",
            "\n",
            "Prediction value= 4\n"
          ],
          "name": "stdout"
        },
        {
          "output_type": "display_data",
          "data": {
            "image/png": "[encoded data removed]",
            "text/plain": [
              "<Figure size 720x360 with 2 Axes>"
            ]
          },
          "metadata": {
            "tags": [],
            "needs_background": "light"
          }
        }
      ]
    },
    {
      "cell_type": "markdown",
      "metadata": {
        "id": "w3aAvUpNsIJW"
      },
      "source": [
        "# CNN predictions"
      ]
    },
    {
      "cell_type": "code",
      "metadata": {
        "id": "tWzMEVEcri6o",
        "outputId": "f4bf2158-9d74-4682-c5b2-42ef36ab3b96",
        "colab": {
          "base_uri": "https://localhost:8080/",
          "height": 1000
        }
      },
      "source": [
        "#CNN model\n",
        "no_images = len(test_X1)\n",
        "np.random.seed(100)\n",
        "for i in range(5):\n",
        "  r = np.random.randint(1, no_images)\n",
        "  img = test_X1[r,:,:,:]\n",
        "  img = img[np.newaxis,...]\n",
        "  \n",
        "  pred = model_cnn.predict(img)\n",
        "  pred = pred.reshape(10)\n",
        "  #print('\\nPrediction Probability=')\n",
        "  #print(pred)\n",
        "  print('\\nPrediction value=', np.argmax(pred))\n",
        "  print_prediction(test_y,r,pred)\n"
      ],
      "execution_count": 136,
      "outputs": [
        {
          "output_type": "stream",
          "text": [
            "\n",
            "Prediction value= 9\n"
          ],
          "name": "stdout"
        },
        {
          "output_type": "stream",
          "text": [
            "/usr/local/lib/python3.6/dist-packages/matplotlib/text.py:1165: FutureWarning: elementwise comparison failed; returning scalar instead, but in the future will perform elementwise comparison\n",
            "  if s != self._text:\n"
          ],
          "name": "stderr"
        },
        {
          "output_type": "display_data",
          "data": {
            "image/png": "[encoded data removed]",
            "text/plain": [
              "<Figure size 720x360 with 2 Axes>"
            ]
          },
          "metadata": {
            "tags": [],
            "needs_background": "light"
          }
        },
        {
          "output_type": "stream",
          "text": [
            "\n",
            "Prediction value= 2\n"
          ],
          "name": "stdout"
        },
        {
          "output_type": "display_data",
          "data": {
            "image/png": "[encoded data removed]",
            "text/plain": [
              "<Figure size 720x360 with 2 Axes>"
            ]
          },
          "metadata": {
            "tags": [],
            "needs_background": "light"
          }
        },
        {
          "output_type": "stream",
          "text": [
            "\n",
            "Prediction value= 3\n"
          ],
          "name": "stdout"
        },
        {
          "output_type": "display_data",
          "data": {
            "image/png": "[encoded data removed]",
            "text/plain": [
              "<Figure size 720x360 with 2 Axes>"
            ]
          },
          "metadata": {
            "tags": [],
            "needs_background": "light"
          }
        },
        {
          "output_type": "stream",
          "text": [
            "\n",
            "Prediction value= 2\n"
          ],
          "name": "stdout"
        },
        {
          "output_type": "display_data",
          "data": {
            "image/png": "[encoded data removed]",
            "text/plain": [
              "<Figure size 720x360 with 2 Axes>"
            ]
          },
          "metadata": {
            "tags": [],
            "needs_background": "light"
          }
        },
        {
          "output_type": "stream",
          "text": [
            "\n",
            "Prediction value= 7\n"
          ],
          "name": "stdout"
        },
        {
          "output_type": "display_data",
          "data": {
            "image/png": "[encoded data removed]",
            "text/plain": [
              "<Figure size 720x360 with 2 Axes>"
            ]
          },
          "metadata": {
            "tags": [],
            "needs_background": "light"
          }
        }
      ]
    },
    {
      "cell_type": "code",
      "metadata": {
        "id": "p1uH2tXWrrvX"
      },
      "source": [
        ""
      ],
      "execution_count": 99,
      "outputs": []
    }
  ]
}